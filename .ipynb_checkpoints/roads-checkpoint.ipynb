{
 "cells": [
  {
   "cell_type": "markdown",
   "id": "e125f102-6701-4d1e-8c81-e4216afa4264",
   "metadata": {},
   "source": [
    "# Lorem ipsum"
   ]
  },
  {
   "cell_type": "code",
   "execution_count": null,
   "id": "f607fca2-e4b2-429b-bb86-e620426d1022",
   "metadata": {},
   "outputs": [],
   "source": []
  }
 ],
 "metadata": {
  "kernelspec": {
   "display_name": "Python 3 (ipykernel)",
   "language": "python",
   "name": "python3"
  },
  "language_info": {
   "codemirror_mode": {
    "name": "ipython",
    "version": 3
   },
   "file_extension": ".py",
   "mimetype": "text/x-python",
   "name": "python",
   "nbconvert_exporter": "python",
   "pygments_lexer": "ipython3",
   "version": "3.10.7"
  }
 },
 "nbformat": 4,
 "nbformat_minor": 5
}
